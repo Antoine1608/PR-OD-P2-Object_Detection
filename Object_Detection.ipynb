{
 "cells": [
  {
   "cell_type": "code",
   "execution_count": 1,
   "id": "95107146-71d4-44e6-b87c-09ac008a3221",
   "metadata": {},
   "outputs": [],
   "source": [
    "#!pip install torch torchvision torchaudio"
   ]
  },
  {
   "cell_type": "code",
   "execution_count": 2,
   "id": "878acbbb-3779-4b76-928a-ba4d07fa97ab",
   "metadata": {},
   "outputs": [],
   "source": [
    "#!pip install timm"
   ]
  },
  {
   "cell_type": "code",
   "execution_count": 3,
   "id": "a064536e-4519-48ce-8d87-94a69b5f0380",
   "metadata": {},
   "outputs": [
    {
     "name": "stderr",
     "output_type": "stream",
     "text": [
      "No model was supplied, defaulted to facebook/detr-resnet-50 and revision 2729413 (https://huggingface.co/facebook/detr-resnet-50).\n",
      "Using a pipeline without specifying a model name and revision in production is not recommended.\n"
     ]
    },
    {
     "data": {
      "application/vnd.jupyter.widget-view+json": {
       "model_id": "fbdf994ef2e34086bfbf13579b6843e8",
       "version_major": 2,
       "version_minor": 0
      },
      "text/plain": [
       "model.safetensors:   0%|          | 0.00/102M [00:00<?, ?B/s]"
      ]
     },
     "metadata": {},
     "output_type": "display_data"
    },
    {
     "name": "stderr",
     "output_type": "stream",
     "text": [
      "Some weights of the model checkpoint at facebook/detr-resnet-50 were not used when initializing DetrForObjectDetection: ['model.backbone.conv_encoder.model.layer4.0.downsample.1.num_batches_tracked', 'model.backbone.conv_encoder.model.layer1.0.downsample.1.num_batches_tracked', 'model.backbone.conv_encoder.model.layer3.0.downsample.1.num_batches_tracked', 'model.backbone.conv_encoder.model.layer2.0.downsample.1.num_batches_tracked']\n",
      "- This IS expected if you are initializing DetrForObjectDetection from the checkpoint of a model trained on another task or with another architecture (e.g. initializing a BertForSequenceClassification model from a BertForPreTraining model).\n",
      "- This IS NOT expected if you are initializing DetrForObjectDetection from the checkpoint of a model that you expect to be exactly identical (initializing a BertForSequenceClassification model from a BertForSequenceClassification model).\n"
     ]
    },
    {
     "data": {
      "application/vnd.jupyter.widget-view+json": {
       "model_id": "c1c3bb142bf744ce9b0418e1a6f3f2f7",
       "version_major": 2,
       "version_minor": 0
      },
      "text/plain": [
       "preprocessor_config.json:   0%|          | 0.00/274 [00:00<?, ?B/s]"
      ]
     },
     "metadata": {},
     "output_type": "display_data"
    },
    {
     "name": "stderr",
     "output_type": "stream",
     "text": [
      "Could not find image processor class in the image processor config or the model config. Loading based on pattern matching with the model's feature extractor configuration.\n",
      "The `max_size` parameter is deprecated and will be removed in v4.26. Please specify in `size['longest_edge'] instead`.\n"
     ]
    },
    {
     "name": "stdout",
     "output_type": "stream",
     "text": [
      "Drawing bounding box 0 of 39...\n",
      "Drawing bounding box 1 of 39...\n",
      "Drawing bounding box 2 of 39...\n",
      "Drawing bounding box 3 of 39...\n",
      "Drawing bounding box 4 of 39...\n",
      "Drawing bounding box 5 of 39...\n",
      "Drawing bounding box 6 of 39...\n",
      "Drawing bounding box 7 of 39...\n",
      "Drawing bounding box 8 of 39...\n",
      "Drawing bounding box 9 of 39...\n",
      "Drawing bounding box 10 of 39...\n",
      "Drawing bounding box 11 of 39...\n",
      "Drawing bounding box 12 of 39...\n",
      "Drawing bounding box 13 of 39...\n",
      "Drawing bounding box 14 of 39...\n",
      "Drawing bounding box 15 of 39...\n",
      "Drawing bounding box 16 of 39...\n",
      "Drawing bounding box 17 of 39...\n",
      "Drawing bounding box 18 of 39...\n",
      "Drawing bounding box 19 of 39...\n",
      "Drawing bounding box 20 of 39...\n",
      "Drawing bounding box 21 of 39...\n",
      "Drawing bounding box 22 of 39...\n",
      "Drawing bounding box 23 of 39...\n",
      "Drawing bounding box 24 of 39...\n",
      "Drawing bounding box 25 of 39...\n",
      "Drawing bounding box 26 of 39...\n",
      "Drawing bounding box 27 of 39...\n",
      "Drawing bounding box 28 of 39...\n",
      "Drawing bounding box 29 of 39...\n",
      "Drawing bounding box 30 of 39...\n",
      "Drawing bounding box 31 of 39...\n",
      "Drawing bounding box 32 of 39...\n",
      "Drawing bounding box 33 of 39...\n",
      "Drawing bounding box 34 of 39...\n",
      "Drawing bounding box 35 of 39...\n",
      "Drawing bounding box 36 of 39...\n",
      "Drawing bounding box 37 of 39...\n",
      "Drawing bounding box 38 of 39...\n",
      "Done!\n"
     ]
    }
   ],
   "source": [
    "from transformers import pipeline\n",
    "from PIL import Image, ImageDraw, ImageFont\n",
    "\n",
    "# Load font\n",
    "font = ImageFont.truetype(\"arial.ttf\", 40)\n",
    "\n",
    "# Initialize the object detection pipeline\n",
    "object_detector = pipeline(\"object-detection\")\n",
    "\n",
    "\n",
    "# Draw bounding box definition\n",
    "def draw_bounding_box(im, score, label, xmin, ymin, xmax, ymax, index, num_boxes):\n",
    " \"\"\" Draw a bounding box. \"\"\"\n",
    "\n",
    " print(f\"Drawing bounding box {index} of {num_boxes}...\")\n",
    "\n",
    " # Draw the actual bounding box\n",
    " im_with_rectangle = ImageDraw.Draw(im)  \n",
    " im_with_rectangle.rounded_rectangle((xmin, ymin, xmax, ymax), outline = \"red\", width = 5, radius = 10)\n",
    "\n",
    " # Draw the label\n",
    " im_with_rectangle.text((xmin+35, ymin-25), label, fill=\"white\", stroke_fill = \"red\", font = font)\n",
    "\n",
    " # Return the intermediate result\n",
    " return im\n",
    "\n",
    "\n",
    "# Open the image\n",
    "with Image.open(\"street.jpg\") as im:\n",
    "\n",
    " # Perform object detection\n",
    " bounding_boxes = object_detector(im)\n",
    "\n",
    " # Iteration elements\n",
    " num_boxes = len(bounding_boxes)\n",
    " index = 0\n",
    "\n",
    " # Draw bounding box for each result\n",
    " for bounding_box in bounding_boxes:\n",
    "\n",
    "  # Get actual box\n",
    "  box = bounding_box[\"box\"]\n",
    "\n",
    "  # Draw the bounding box\n",
    "  im = draw_bounding_box(im, bounding_box[\"score\"], bounding_box[\"label\"],\\\n",
    "   box[\"xmin\"], box[\"ymin\"], box[\"xmax\"], box[\"ymax\"], index, num_boxes)\n",
    "\n",
    "  # Increase index by one\n",
    "  index += 1\n",
    "\n",
    " # Save image\n",
    " im.save(\"street_bboxes.jpg\")\n",
    "\n",
    " # Done\n",
    " print(\"Done!\")"
   ]
  }
 ],
 "metadata": {
  "kernelspec": {
   "display_name": "Python 3 (ipykernel)",
   "language": "python",
   "name": "python3"
  },
  "language_info": {
   "codemirror_mode": {
    "name": "ipython",
    "version": 3
   },
   "file_extension": ".py",
   "mimetype": "text/x-python",
   "name": "python",
   "nbconvert_exporter": "python",
   "pygments_lexer": "ipython3",
   "version": "3.9.13"
  }
 },
 "nbformat": 4,
 "nbformat_minor": 5
}
